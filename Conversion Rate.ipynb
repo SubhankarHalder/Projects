{
 "cells": [
  {
   "cell_type": "markdown",
   "metadata": {},
   "source": [
    "# Conversion Rate#\n",
    "\n",
    "by Subhankar Halder"
   ]
  },
  {
   "cell_type": "markdown",
   "metadata": {},
   "source": [
    "## Objective \n",
    "\n",
    "In this project, we predict the conversion rate of users visiting a website. Further, based on analysis, we would make recommendations to improve the conversion rate. \n",
    "\n",
    "The data has information about users visiting the website. This includes how many users have been converted, total pages visited and the the marketing channel source. [Data Unmasked](https://datamasked.com/) is the source of the data.  \n",
    "\n",
    "## Import Libraries\n",
    "\n",
    "We import libraries into Python that will supply us with tools to sort, organize, visualize and analyze data."
   ]
  },
  {
   "cell_type": "code",
   "execution_count": 2,
   "metadata": {},
   "outputs": [],
   "source": [
    "# Import numpy and set alias as np\n",
    "import numpy as np\n",
    "\n",
    "# Import pandas and set alias as pd\n",
    "import pandas as pd\n",
    "\n",
    "# Import pyplot and set alias as plt\n",
    "from matplotlib import pyplot as plt\n",
    "\n",
    "# Import seaborn and set alias as sns\n",
    "import seaborn as sns\n",
    "\n",
    "# Import module to split data \n",
    "from sklearn.model_selection import train_test_split\n",
    "\n",
    "# Import module for Logistic Regression and Confusion Matrix\n",
    "from sklearn.linear_model import LogisticRegression\n",
    "from sklearn.metrics import confusion_matrix"
   ]
  },
  {
   "cell_type": "markdown",
   "metadata": {},
   "source": [
    "## Load Data\n",
    "\n",
    "We load the csv file and convert the data into a pandas data frame. We print the first few rows of the file.  "
   ]
  },
  {
   "cell_type": "code",
   "execution_count": 3,
   "metadata": {},
   "outputs": [
    {
     "name": "stdout",
     "output_type": "stream",
     "text": [
      "  country  age  new_user  source  total_pages_visited  converted\n",
      "0      UK   25         1     Ads                    1          0\n",
      "1      US   23         1     Seo                    5          0\n",
      "2      US   28         1     Seo                    4          0\n",
      "3   China   39         1     Seo                    5          0\n",
      "4      US   30         1     Seo                    6          0\n",
      "5      US   31         0     Seo                    1          0\n",
      "6   China   27         1     Seo                    4          0\n",
      "7      US   23         0     Ads                    4          0\n",
      "8      UK   29         0  Direct                    4          0\n",
      "9      US   25         0     Ads                    2          0\n"
     ]
    }
   ],
   "source": [
    "# Load Data into data frame\n",
    "df = pd.read_csv('conversion_data.csv')\n",
    "\n",
    "# Use head command to print first 10 rows\n",
    "print(df.head(10))"
   ]
  },
  {
   "cell_type": "markdown",
   "metadata": {},
   "source": [
    "## Data Cleaning and Exploration\n",
    "\n",
    "In this section we explore and clean the data if required.  "
   ]
  },
  {
   "cell_type": "code",
   "execution_count": 4,
   "metadata": {},
   "outputs": [
    {
     "name": "stdout",
     "output_type": "stream",
     "text": [
      "<class 'pandas.core.frame.DataFrame'>\n",
      "RangeIndex: 316200 entries, 0 to 316199\n",
      "Data columns (total 6 columns):\n",
      "country                316200 non-null object\n",
      "age                    316200 non-null int64\n",
      "new_user               316200 non-null int64\n",
      "source                 316200 non-null object\n",
      "total_pages_visited    316200 non-null int64\n",
      "converted              316200 non-null int64\n",
      "dtypes: int64(4), object(2)\n",
      "memory usage: 14.5+ MB\n"
     ]
    },
    {
     "data": {
      "text/html": [
       "<div>\n",
       "<style scoped>\n",
       "    .dataframe tbody tr th:only-of-type {\n",
       "        vertical-align: middle;\n",
       "    }\n",
       "\n",
       "    .dataframe tbody tr th {\n",
       "        vertical-align: top;\n",
       "    }\n",
       "\n",
       "    .dataframe thead th {\n",
       "        text-align: right;\n",
       "    }\n",
       "</style>\n",
       "<table border=\"1\" class=\"dataframe\">\n",
       "  <thead>\n",
       "    <tr style=\"text-align: right;\">\n",
       "      <th></th>\n",
       "      <th>age</th>\n",
       "      <th>new_user</th>\n",
       "      <th>total_pages_visited</th>\n",
       "      <th>converted</th>\n",
       "    </tr>\n",
       "  </thead>\n",
       "  <tbody>\n",
       "    <tr>\n",
       "      <th>count</th>\n",
       "      <td>316200.000000</td>\n",
       "      <td>316200.000000</td>\n",
       "      <td>316200.000000</td>\n",
       "      <td>316200.000000</td>\n",
       "    </tr>\n",
       "    <tr>\n",
       "      <th>mean</th>\n",
       "      <td>30.569858</td>\n",
       "      <td>0.685465</td>\n",
       "      <td>4.872966</td>\n",
       "      <td>0.032258</td>\n",
       "    </tr>\n",
       "    <tr>\n",
       "      <th>std</th>\n",
       "      <td>8.271802</td>\n",
       "      <td>0.464331</td>\n",
       "      <td>3.341104</td>\n",
       "      <td>0.176685</td>\n",
       "    </tr>\n",
       "    <tr>\n",
       "      <th>min</th>\n",
       "      <td>17.000000</td>\n",
       "      <td>0.000000</td>\n",
       "      <td>1.000000</td>\n",
       "      <td>0.000000</td>\n",
       "    </tr>\n",
       "    <tr>\n",
       "      <th>25%</th>\n",
       "      <td>24.000000</td>\n",
       "      <td>0.000000</td>\n",
       "      <td>2.000000</td>\n",
       "      <td>0.000000</td>\n",
       "    </tr>\n",
       "    <tr>\n",
       "      <th>50%</th>\n",
       "      <td>30.000000</td>\n",
       "      <td>1.000000</td>\n",
       "      <td>4.000000</td>\n",
       "      <td>0.000000</td>\n",
       "    </tr>\n",
       "    <tr>\n",
       "      <th>75%</th>\n",
       "      <td>36.000000</td>\n",
       "      <td>1.000000</td>\n",
       "      <td>7.000000</td>\n",
       "      <td>0.000000</td>\n",
       "    </tr>\n",
       "    <tr>\n",
       "      <th>max</th>\n",
       "      <td>123.000000</td>\n",
       "      <td>1.000000</td>\n",
       "      <td>29.000000</td>\n",
       "      <td>1.000000</td>\n",
       "    </tr>\n",
       "  </tbody>\n",
       "</table>\n",
       "</div>"
      ],
      "text/plain": [
       "                 age       new_user  total_pages_visited      converted\n",
       "count  316200.000000  316200.000000        316200.000000  316200.000000\n",
       "mean       30.569858       0.685465             4.872966       0.032258\n",
       "std         8.271802       0.464331             3.341104       0.176685\n",
       "min        17.000000       0.000000             1.000000       0.000000\n",
       "25%        24.000000       0.000000             2.000000       0.000000\n",
       "50%        30.000000       1.000000             4.000000       0.000000\n",
       "75%        36.000000       1.000000             7.000000       0.000000\n",
       "max       123.000000       1.000000            29.000000       1.000000"
      ]
     },
     "execution_count": 4,
     "metadata": {},
     "output_type": "execute_result"
    }
   ],
   "source": [
    "# Print information about the data frame\n",
    "df.info()\n",
    "\n",
    "# Print basic statistics about the data frame\n",
    "df.describe()"
   ]
  },
  {
   "cell_type": "markdown",
   "metadata": {},
   "source": [
    "### Observations\n",
    "\n",
    "A major issue that comes up when we look at the data is that max age is 123. We explore the age column. "
   ]
  },
  {
   "cell_type": "code",
   "execution_count": 5,
   "metadata": {},
   "outputs": [
    {
     "data": {
      "image/png": "[encoded data removed]",
      "text/plain": [
       "<Figure size 432x288 with 1 Axes>"
      ]
     },
     "metadata": {
      "needs_background": "light"
     },
     "output_type": "display_data"
    }
   ],
   "source": [
    "# Create a list of 316200 elements to serve as the x axis for the line plot of age\n",
    "l = range(316200)\n",
    "\n",
    "# Create plot for age\n",
    "plt.plot(l,df['age'],linestyle = '--',marker='o', color = 'green')\n",
    "plt.xlabel('User#')\n",
    "plt.ylabel('Age')\n",
    "plt.title('Age of Each User')\n",
    "plt.show()\n"
   ]
  },
  {
   "cell_type": "markdown",
   "metadata": {},
   "source": [
    "It seems there are only two outliers. We confirm this assertion and remove the two data points.  "
   ]
  },
  {
   "cell_type": "code",
   "execution_count": 6,
   "metadata": {},
   "outputs": [
    {
     "data": {
      "image/png": "[encoded data removed]",
      "text/plain": [
       "<Figure size 432x288 with 1 Axes>"
      ]
     },
     "metadata": {
      "needs_background": "light"
     },
     "output_type": "display_data"
    },
    {
     "name": "stdout",
     "output_type": "stream",
     "text": [
      "<class 'pandas.core.frame.DataFrame'>\n",
      "Int64Index: 316198 entries, 0 to 316199\n",
      "Data columns (total 6 columns):\n",
      "country                316198 non-null object\n",
      "age                    316198 non-null int64\n",
      "new_user               316198 non-null int64\n",
      "source                 316198 non-null object\n",
      "total_pages_visited    316198 non-null int64\n",
      "converted              316198 non-null int64\n",
      "dtypes: int64(4), object(2)\n",
      "memory usage: 16.9+ MB\n"
     ]
    },
    {
     "data": {
      "text/html": [
       "<div>\n",
       "<style scoped>\n",
       "    .dataframe tbody tr th:only-of-type {\n",
       "        vertical-align: middle;\n",
       "    }\n",
       "\n",
       "    .dataframe tbody tr th {\n",
       "        vertical-align: top;\n",
       "    }\n",
       "\n",
       "    .dataframe thead th {\n",
       "        text-align: right;\n",
       "    }\n",
       "</style>\n",
       "<table border=\"1\" class=\"dataframe\">\n",
       "  <thead>\n",
       "    <tr style=\"text-align: right;\">\n",
       "      <th></th>\n",
       "      <th>age</th>\n",
       "      <th>new_user</th>\n",
       "      <th>total_pages_visited</th>\n",
       "      <th>converted</th>\n",
       "    </tr>\n",
       "  </thead>\n",
       "  <tbody>\n",
       "    <tr>\n",
       "      <th>count</th>\n",
       "      <td>316198.000000</td>\n",
       "      <td>316198.000000</td>\n",
       "      <td>316198.000000</td>\n",
       "      <td>316198.000000</td>\n",
       "    </tr>\n",
       "    <tr>\n",
       "      <th>mean</th>\n",
       "      <td>30.569311</td>\n",
       "      <td>0.685469</td>\n",
       "      <td>4.872918</td>\n",
       "      <td>0.032252</td>\n",
       "    </tr>\n",
       "    <tr>\n",
       "      <th>std</th>\n",
       "      <td>8.268958</td>\n",
       "      <td>0.464329</td>\n",
       "      <td>3.341053</td>\n",
       "      <td>0.176669</td>\n",
       "    </tr>\n",
       "    <tr>\n",
       "      <th>min</th>\n",
       "      <td>17.000000</td>\n",
       "      <td>0.000000</td>\n",
       "      <td>1.000000</td>\n",
       "      <td>0.000000</td>\n",
       "    </tr>\n",
       "    <tr>\n",
       "      <th>25%</th>\n",
       "      <td>24.000000</td>\n",
       "      <td>0.000000</td>\n",
       "      <td>2.000000</td>\n",
       "      <td>0.000000</td>\n",
       "    </tr>\n",
       "    <tr>\n",
       "      <th>50%</th>\n",
       "      <td>30.000000</td>\n",
       "      <td>1.000000</td>\n",
       "      <td>4.000000</td>\n",
       "      <td>0.000000</td>\n",
       "    </tr>\n",
       "    <tr>\n",
       "      <th>75%</th>\n",
       "      <td>36.000000</td>\n",
       "      <td>1.000000</td>\n",
       "      <td>7.000000</td>\n",
       "      <td>0.000000</td>\n",
       "    </tr>\n",
       "    <tr>\n",
       "      <th>max</th>\n",
       "      <td>79.000000</td>\n",
       "      <td>1.000000</td>\n",
       "      <td>29.000000</td>\n",
       "      <td>1.000000</td>\n",
       "    </tr>\n",
       "  </tbody>\n",
       "</table>\n",
       "</div>"
      ],
      "text/plain": [
       "                 age       new_user  total_pages_visited      converted\n",
       "count  316198.000000  316198.000000        316198.000000  316198.000000\n",
       "mean       30.569311       0.685469             4.872918       0.032252\n",
       "std         8.268958       0.464329             3.341053       0.176669\n",
       "min        17.000000       0.000000             1.000000       0.000000\n",
       "25%        24.000000       0.000000             2.000000       0.000000\n",
       "50%        30.000000       1.000000             4.000000       0.000000\n",
       "75%        36.000000       1.000000             7.000000       0.000000\n",
       "max        79.000000       1.000000            29.000000       1.000000"
      ]
     },
     "execution_count": 6,
     "metadata": {},
     "output_type": "execute_result"
    }
   ],
   "source": [
    "# Check dataframe index that has the outlier age\n",
    "df[df['age']>100]\n",
    "\n",
    "# Drop the respective rows from the dataframe\n",
    "indexNames = df[ df['age'] > 100 ].index\n",
    "df.drop(indexNames , inplace=True)\n",
    "\n",
    "# Check graphically if the outlier has been deleted\n",
    "l = range(316198)\n",
    "plt.plot(l,df['age'],linestyle = '--',marker='o', color = 'green')\n",
    "plt.xlabel('User#')\n",
    "plt.ylabel('Age')\n",
    "plt.title('Age of Each User')\n",
    "plt.show()\n",
    "\n",
    "# Check analytically if the outlier has been deleted\n",
    "df.info()\n",
    "df.describe()\n"
   ]
  },
  {
   "cell_type": "markdown",
   "metadata": {},
   "source": [
    "For the quantitative total_pages_visited we plot a distribution chart. "
   ]
  },
  {
   "cell_type": "code",
   "execution_count": 7,
   "metadata": {},
   "outputs": [
    {
     "data": {
      "text/plain": [
       "Text(0.5, 1.0, 'Total Pages Visited')"
      ]
     },
     "execution_count": 7,
     "metadata": {},
     "output_type": "execute_result"
    },
    {
     "data": {
      "image/png": "[encoded data removed]",
      "text/plain": [
       "<Figure size 432x288 with 1 Axes>"
      ]
     },
     "metadata": {
      "needs_background": "light"
     },
     "output_type": "display_data"
    }
   ],
   "source": [
    "# Distribution Plot for Total Pages Visited\n",
    "sns.distplot(df['total_pages_visited'], kde = False)\n",
    "plt.title('Total Pages Visited')"
   ]
  },
  {
   "cell_type": "markdown",
   "metadata": {},
   "source": [
    "We note that plot seems normal but right skewed. We now explore the number of users per country and their conversion rate. "
   ]
  },
  {
   "cell_type": "code",
   "execution_count": 8,
   "metadata": {},
   "outputs": [
    {
     "data": {
      "text/plain": [
       "<matplotlib.axes._subplots.AxesSubplot at 0x1044d8b38>"
      ]
     },
     "execution_count": 8,
     "metadata": {},
     "output_type": "execute_result"
    },
    {
     "data": {
      "image/png": "[encoded data removed]",
      "text/plain": [
       "<Figure size 1080x504 with 2 Axes>"
      ]
     },
     "metadata": {
      "needs_background": "light"
     },
     "output_type": "display_data"
    }
   ],
   "source": [
    "# Initiate 2 subplots to plot conversions per country and the mean conversion per country\n",
    "fig, ax = plt.subplots(figsize=(15,7), ncols=2, nrows=1)\n",
    "\n",
    "# Specify title and size specifications\n",
    "y_title_margin = 1\n",
    "ax[0].set_title('Conversion Count Per Country', y = y_title_margin)\n",
    "ax[1].set_title('Mean Conversion Per Country', y = y_title_margin)\n",
    "\n",
    "# Plots the number of users from a specific country\n",
    "sns.set(style = 'darkgrid')\n",
    "df = df.sort_values('country').reset_index()\n",
    "\n",
    "sns.countplot(data = df, x = \"country\",ax = ax[0])\n",
    "\n",
    "# Calculate the mean conversion per country\n",
    "country_conversion = df.groupby('country').converted.mean().reset_index()\n",
    "country_conversion = country_conversion.rename(columns = {\"converted\":\"mean conversion\"})\n",
    "\n",
    "# Plot barplot of the mean conversion per country\n",
    "sns.barplot(data = country_conversion, x = \"country\", y = \"mean conversion\",ax=ax[1])\n"
   ]
  },
  {
   "cell_type": "markdown",
   "metadata": {},
   "source": [
    "### Observations\n",
    "\n",
    "* China has the lowest mean conversion although it sends a high amount of users\n",
    "* Germany has the highet mean conversion although it sens the lowerest number of users\n",
    "* Both UK and Germany have a higher mean conversion than US \n",
    "* US has the highest amount of users"
   ]
  },
  {
   "cell_type": "markdown",
   "metadata": {},
   "source": [
    "Now, we would explore the conversion data and compare it with age. "
   ]
  },
  {
   "cell_type": "code",
   "execution_count": 9,
   "metadata": {},
   "outputs": [
    {
     "data": {
      "image/png": "[encoded data removed]",
      "text/plain": [
       "<Figure size 432x288 with 1 Axes>"
      ]
     },
     "metadata": {},
     "output_type": "display_data"
    }
   ],
   "source": [
    "# Create a dataframe that consists of only the converted users\n",
    "age_conversion  = df [df.converted == 1].reset_index()\n",
    "\n",
    "# Plot a histogram for age of those converted users \n",
    "plt.figure()\n",
    "plt.title('Age of Converted Users')\n",
    "plt.xlabel('Age')\n",
    "plt.ylabel('Number of Converted Users')\n",
    "\n",
    "sns.set(style=\"white\", palette=\"muted\", color_codes=True)\n",
    "sns.distplot(age_conversion['age'], color = \"b\", kde=False)\n",
    "plt.show()"
   ]
  },
  {
   "cell_type": "markdown",
   "metadata": {},
   "source": [
    "### Observations\n",
    "\n",
    "* 20-30 bracket is the age for most converted users.\n",
    "\n",
    "\n",
    "We now explore the country-wide age and converted users relationship. \n",
    "\n"
   ]
  },
  {
   "cell_type": "code",
   "execution_count": 10,
   "metadata": {},
   "outputs": [
    {
     "data": {
      "text/plain": [
       "<matplotlib.axes._subplots.AxesSubplot at 0x1a1a89f748>"
      ]
     },
     "execution_count": 10,
     "metadata": {},
     "output_type": "execute_result"
    },
    {
     "data": {
      "image/png": "[encoded data removed]",
      "text/plain": [
       "<Figure size 1080x288 with 4 Axes>"
      ]
     },
     "metadata": {},
     "output_type": "display_data"
    }
   ],
   "source": [
    "# Initiate 4 subplots to plot conversions per country and the age\n",
    "fig, ax = plt.subplots(figsize=(15,4), ncols=4, nrows=1)\n",
    "\n",
    "# Assign values for spacing between graphs\n",
    "left   =  0.125  \n",
    "right  =  0.9    \n",
    "bottom =  0.1    \n",
    "top    =  0.9    \n",
    "wspace =  .5     \n",
    "hspace =  1.1    \n",
    "\n",
    "# This function adjusts the sub plots using the above paramters\n",
    "plt.subplots_adjust(\n",
    "    left    =  left, \n",
    "    bottom  =  bottom, \n",
    "    right   =  right, \n",
    "    top     =  top, \n",
    "    wspace  =  wspace, \n",
    "    hspace  =  hspace\n",
    ")\n",
    "\n",
    "# Specify title and size specifications\n",
    "y_title_margin = 1\n",
    "ax[0].set_title('China', y = y_title_margin)\n",
    "ax[1].set_title('Germany', y = y_title_margin)\n",
    "ax[2].set_title('UK', y = y_title_margin)\n",
    "ax[3].set_title('US', y = y_title_margin)\n",
    "\n",
    "\n",
    "# Create dataframe that consists of country specific converted users\n",
    "china_conversion = age_conversion[age_conversion.country == 'China']\n",
    "germany_conversion = age_conversion[age_conversion.country == 'Germany']\n",
    "uk_conversion = age_conversion[age_conversion.country == 'UK']\n",
    "us_conversion  = age_conversion[(age_conversion.country == 'US')]\n",
    "\n",
    "# Set ylabel\n",
    "ax[0].set(ylabel = 'Converted Users')\n",
    "ax[1].set(ylabel = 'Converted Users')\n",
    "ax[2].set(ylabel = 'Converted Users')\n",
    "ax[3].set(ylabel = 'Converted Users')\n",
    "\n",
    "\n",
    "\n",
    "# Plot Country specific ages of users that have converted\n",
    "sns.distplot(china_conversion['age'], kde = False, ax=ax[0])\n",
    "sns.distplot(germany_conversion['age'],kde = False, ax = ax[1])\n",
    "sns.distplot(uk_conversion['age'],kde=False, ax= ax[2])\n",
    "sns.distplot(us_conversion['age'],kde=False, ax = ax[3])\n",
    "\n"
   ]
  },
  {
   "cell_type": "markdown",
   "metadata": {},
   "source": [
    "### Observations\n",
    "\n",
    "* Converted users from Germany, UK and US have more older users (more that 40) than China\n",
    "* Converted users from Germany has a steady decrease by age. This trend is also seen in US post age 30. \n",
    "* Conversion in UK seem agnostic to age in the group 20-35. This, however, needs to be statistically confirmed. "
   ]
  },
  {
   "cell_type": "markdown",
   "metadata": {},
   "source": [
    "We now explore the data with regards to the channel source of the users "
   ]
  },
  {
   "cell_type": "code",
   "execution_count": 11,
   "metadata": {},
   "outputs": [
    {
     "data": {
      "text/plain": [
       "<matplotlib.axes._subplots.AxesSubplot at 0x1a1cdf9278>"
      ]
     },
     "execution_count": 11,
     "metadata": {},
     "output_type": "execute_result"
    },
    {
     "data": {
      "image/png": "[encoded data removed]",
      "text/plain": [
       "<Figure size 1080x216 with 4 Axes>"
      ]
     },
     "metadata": {},
     "output_type": "display_data"
    }
   ],
   "source": [
    "\n",
    "\n",
    "# Initiate 4 subplots to plot conversions per country and the source of the users\n",
    "fig, ax = plt.subplots(figsize=(15,3), ncols=4, nrows=1)\n",
    "\n",
    "# Assign values for spacing between graphs\n",
    "left   =  0.125  \n",
    "right  =  0.9    \n",
    "bottom =  0.1    \n",
    "top    =  0.9    \n",
    "wspace =  .5     \n",
    "hspace =  1.1    \n",
    "\n",
    "# This function adjusts the sub plots using the above paramters\n",
    "plt.subplots_adjust(\n",
    "    left    =  left, \n",
    "    bottom  =  bottom, \n",
    "    right   =  right, \n",
    "    top     =  top, \n",
    "    wspace  =  wspace, \n",
    "    hspace  =  hspace\n",
    ")\n",
    "\n",
    "# Specify title and size specifications\n",
    "y_title_margin = 1\n",
    "ax[0].set_title('China', y = y_title_margin)\n",
    "ax[1].set_title('Germany', y = y_title_margin)\n",
    "ax[2].set_title('UK', y = y_title_margin)\n",
    "ax[3].set_title('US', y = y_title_margin)\n",
    "\n",
    "# Sort source alphabetically so that the graphs when plotted follow the same format\n",
    "china_conversion = china_conversion.sort_values('source')\n",
    "germany_conversion = germany_conversion.sort_values('source')\n",
    "uk_conversion = uk_conversion.sort_values('source')\n",
    "us_conversion = us_conversion.sort_values('source')\n",
    "\n",
    "\n",
    "\n",
    "# Plot graphs of the source of the converted users per country\n",
    "\n",
    "sns.countplot(data = china_conversion, x = \"source\",ax = ax[0])\n",
    "sns.countplot(data = germany_conversion, x = \"source\",ax = ax[1])\n",
    "sns.countplot(data = uk_conversion, x = \"source\",ax = ax[2])\n",
    "sns.countplot(data = us_conversion, x = \"source\",ax = ax[3])\n",
    "\n",
    "\n"
   ]
  },
  {
   "cell_type": "markdown",
   "metadata": {},
   "source": [
    "### Observations\n",
    "\n",
    "* For all four countries SEO is the biggest source, followed by Ads and Direct Source"
   ]
  },
  {
   "cell_type": "markdown",
   "metadata": {},
   "source": [
    "Now, we explore the data relationship with converted users and the number of webpages visited during the conversion session. "
   ]
  },
  {
   "cell_type": "code",
   "execution_count": 12,
   "metadata": {},
   "outputs": [
    {
     "data": {
      "text/plain": [
       "<matplotlib.axes._subplots.AxesSubplot at 0x1a1a276eb8>"
      ]
     },
     "execution_count": 12,
     "metadata": {},
     "output_type": "execute_result"
    },
    {
     "data": {
      "image/png": "[encoded data removed]",
      "text/plain": [
       "<Figure size 1080x288 with 4 Axes>"
      ]
     },
     "metadata": {},
     "output_type": "display_data"
    }
   ],
   "source": [
    "# Initiate 4 subplots to plot conversions per country and the number of webpages visited\n",
    "fig, ax = plt.subplots(figsize=(15,4), ncols=4, nrows=1)\n",
    "\n",
    "# Assign values for spacing between graphs\n",
    "left   =  0.125  \n",
    "right  =  0.9    \n",
    "bottom =  0.1    \n",
    "top    =  0.9    \n",
    "wspace =  .5     \n",
    "hspace =  1.1    \n",
    "\n",
    "# This function adjusts the sub plots using the above paramters\n",
    "plt.subplots_adjust(\n",
    "    left    =  left, \n",
    "    bottom  =  bottom, \n",
    "    right   =  right, \n",
    "    top     =  top, \n",
    "    wspace  =  wspace, \n",
    "    hspace  =  hspace\n",
    ")\n",
    "\n",
    "# Specify title and size specifications\n",
    "y_title_margin = 1\n",
    "ax[0].set_title('China', y = y_title_margin)\n",
    "ax[1].set_title('Germany', y = y_title_margin)\n",
    "ax[2].set_title('UK', y = y_title_margin)\n",
    "ax[3].set_title('US', y = y_title_margin)\n",
    "\n",
    "\n",
    "\n",
    "# Set ylabel\n",
    "ax[0].set(ylabel = 'Converted Users')\n",
    "ax[1].set(ylabel = 'Converted Users')\n",
    "ax[2].set(ylabel = 'Converted Users')\n",
    "ax[3].set(ylabel = 'Converted Users')\n",
    "\n",
    "\n",
    "\n",
    "# Plot Country specific ages of users that have converted\n",
    "sns.distplot(china_conversion['total_pages_visited'], kde = False, ax=ax[0])\n",
    "sns.distplot(germany_conversion['total_pages_visited'],kde = False, ax = ax[1])\n",
    "sns.distplot(uk_conversion['total_pages_visited'],kde = False, ax= ax[2])\n",
    "sns.distplot(us_conversion['total_pages_visited'],kde = False, ax = ax[3])\n",
    "\n"
   ]
  },
  {
   "cell_type": "markdown",
   "metadata": {},
   "source": [
    "### Observations\n",
    "\n",
    "* For all 4 countries the total pages visited by the converted users seem to follow a normal curve.\n",
    "* 15 pages seem to be the ideal number where we have most converted users.\n",
    "* It is not true that converted users have visited the most number of pages. Post 15 pages, the number of converted users have dropped. "
   ]
  },
  {
   "cell_type": "markdown",
   "metadata": {},
   "source": [
    "We now compare the new users who have converted in their first session of visiting the website. The column new_user with a score 1 reflects a new user to the website."
   ]
  },
  {
   "cell_type": "code",
   "execution_count": 13,
   "metadata": {},
   "outputs": [
    {
     "data": {
      "text/plain": [
       "<matplotlib.axes._subplots.AxesSubplot at 0x1a1b2422b0>"
      ]
     },
     "execution_count": 13,
     "metadata": {},
     "output_type": "execute_result"
    },
    {
     "data": {
      "image/png": "[encoded data removed]",
      "text/plain": [
       "<Figure size 1080x288 with 4 Axes>"
      ]
     },
     "metadata": {},
     "output_type": "display_data"
    }
   ],
   "source": [
    "# Initiate 4 subplots to plot conversions in the first session of visiting the website (new_user)\n",
    "fig, ax = plt.subplots(figsize=(15,4), ncols=4, nrows=1)\n",
    "\n",
    "# Assign values for spacing between graphs\n",
    "left   =  0.125  \n",
    "right  =  0.9    \n",
    "bottom =  0.1    \n",
    "top    =  0.9    \n",
    "wspace =  .5     \n",
    "hspace =  1.1    \n",
    "\n",
    "# This function adjusts the sub plots using the above paramters\n",
    "plt.subplots_adjust(\n",
    "    left    =  left, \n",
    "    bottom  =  bottom, \n",
    "   right   =  right, \n",
    "    top     =  top, \n",
    "    wspace  =  wspace, \n",
    "    hspace  =  hspace\n",
    ")\n",
    "\n",
    "# Specify title and size specifications\n",
    "y_title_margin = 1\n",
    "ax[0].set_title('China', y = y_title_margin)\n",
    "ax[1].set_title('Germany', y = y_title_margin)\n",
    "ax[2].set_title('UK', y = y_title_margin)\n",
    "ax[3].set_title('US', y = y_title_margin)\n",
    "\n",
    "\n",
    "\n",
    "# Set ylabel and x_label\n",
    "ax[0].set(ylabel = 'New Users')\n",
    "ax[1].set(ylabel = 'New Users')\n",
    "ax[2].set(ylabel = 'New Users')\n",
    "ax[3].set(ylabel = 'New Users')\n",
    "\n",
    "\n",
    "# Create a dataframe that has all the new user to the website per country\n",
    "china_new = china_conversion[china_conversion.new_user == 1]\n",
    "germany_new = germany_conversion[germany_conversion.new_user == 1]\n",
    "uk_new = uk_conversion[uk_conversion.new_user == 1]\n",
    "us_new = us_conversion[us_conversion.new_user == 1]\n",
    "\n",
    "\n",
    "\n",
    "\n",
    "# Plot Country specific ages of new users that have converted \n",
    "sns.scatterplot(x = \"age\", y= \"new_user\", data = china_new, ax=ax[0])\n",
    "sns.scatterplot(x = \"age\", y= \"new_user\", data = germany_new, ax = ax[1])\n",
    "sns.scatterplot(x = \"age\", y= \"new_user\", data = uk_new, ax = ax[2])\n",
    "sns.scatterplot(x = \"age\", y= \"new_user\", data = us_new, ax = ax[3])\n",
    "\n"
   ]
  },
  {
   "cell_type": "markdown",
   "metadata": {},
   "source": [
    "### Observations\n",
    "\n",
    "* Most young users in China are new users who convert\n",
    "* In Germany, we seem to have a uniform conversion across the entire age group\n",
    "* In UK and US new users who are older seem less than the young users"
   ]
  },
  {
   "cell_type": "markdown",
   "metadata": {},
   "source": [
    "## Machine Learning\n",
    "\n",
    "To predict the conversion of users for the website, we use the Logistic Regression. We note that prediction is a classification problem - whether a user converts or not. Logistic Regression is low on flexibility but high on interpretability. Logistic Regression is also low on Bias. Thus, we choose logistic regression for this problem. \n",
    "\n",
    "To proceed towards this algorithm, we will convert the categorical variables into quantitative by the encoding process. "
   ]
  },
  {
   "cell_type": "code",
   "execution_count": 14,
   "metadata": {},
   "outputs": [
    {
     "data": {
      "text/html": [
       "<div>\n",
       "<style scoped>\n",
       "    .dataframe tbody tr th:only-of-type {\n",
       "        vertical-align: middle;\n",
       "    }\n",
       "\n",
       "    .dataframe tbody tr th {\n",
       "        vertical-align: top;\n",
       "    }\n",
       "\n",
       "    .dataframe thead th {\n",
       "        text-align: right;\n",
       "    }\n",
       "</style>\n",
       "<table border=\"1\" class=\"dataframe\">\n",
       "  <thead>\n",
       "    <tr style=\"text-align: right;\">\n",
       "      <th></th>\n",
       "      <th>index</th>\n",
       "      <th>age</th>\n",
       "      <th>new_user</th>\n",
       "      <th>total_pages_visited</th>\n",
       "      <th>converted</th>\n",
       "      <th>country_China</th>\n",
       "      <th>country_Germany</th>\n",
       "      <th>country_UK</th>\n",
       "      <th>country_US</th>\n",
       "      <th>source_Ads</th>\n",
       "      <th>source_Direct</th>\n",
       "      <th>source_Seo</th>\n",
       "    </tr>\n",
       "  </thead>\n",
       "  <tbody>\n",
       "    <tr>\n",
       "      <th>0</th>\n",
       "      <td>217850</td>\n",
       "      <td>31</td>\n",
       "      <td>1</td>\n",
       "      <td>13</td>\n",
       "      <td>0</td>\n",
       "      <td>1</td>\n",
       "      <td>0</td>\n",
       "      <td>0</td>\n",
       "      <td>0</td>\n",
       "      <td>1</td>\n",
       "      <td>0</td>\n",
       "      <td>0</td>\n",
       "    </tr>\n",
       "    <tr>\n",
       "      <th>1</th>\n",
       "      <td>161431</td>\n",
       "      <td>22</td>\n",
       "      <td>1</td>\n",
       "      <td>6</td>\n",
       "      <td>0</td>\n",
       "      <td>1</td>\n",
       "      <td>0</td>\n",
       "      <td>0</td>\n",
       "      <td>0</td>\n",
       "      <td>0</td>\n",
       "      <td>0</td>\n",
       "      <td>1</td>\n",
       "    </tr>\n",
       "    <tr>\n",
       "      <th>2</th>\n",
       "      <td>53181</td>\n",
       "      <td>27</td>\n",
       "      <td>0</td>\n",
       "      <td>1</td>\n",
       "      <td>0</td>\n",
       "      <td>1</td>\n",
       "      <td>0</td>\n",
       "      <td>0</td>\n",
       "      <td>0</td>\n",
       "      <td>1</td>\n",
       "      <td>0</td>\n",
       "      <td>0</td>\n",
       "    </tr>\n",
       "    <tr>\n",
       "      <th>3</th>\n",
       "      <td>228849</td>\n",
       "      <td>34</td>\n",
       "      <td>1</td>\n",
       "      <td>5</td>\n",
       "      <td>0</td>\n",
       "      <td>1</td>\n",
       "      <td>0</td>\n",
       "      <td>0</td>\n",
       "      <td>0</td>\n",
       "      <td>0</td>\n",
       "      <td>0</td>\n",
       "      <td>1</td>\n",
       "    </tr>\n",
       "    <tr>\n",
       "      <th>4</th>\n",
       "      <td>53179</td>\n",
       "      <td>37</td>\n",
       "      <td>0</td>\n",
       "      <td>1</td>\n",
       "      <td>0</td>\n",
       "      <td>1</td>\n",
       "      <td>0</td>\n",
       "      <td>0</td>\n",
       "      <td>0</td>\n",
       "      <td>1</td>\n",
       "      <td>0</td>\n",
       "      <td>0</td>\n",
       "    </tr>\n",
       "  </tbody>\n",
       "</table>\n",
       "</div>"
      ],
      "text/plain": [
       "    index  age  new_user  total_pages_visited  converted  country_China  \\\n",
       "0  217850   31         1                   13          0              1   \n",
       "1  161431   22         1                    6          0              1   \n",
       "2   53181   27         0                    1          0              1   \n",
       "3  228849   34         1                    5          0              1   \n",
       "4   53179   37         0                    1          0              1   \n",
       "\n",
       "   country_Germany  country_UK  country_US  source_Ads  source_Direct  \\\n",
       "0                0           0           0           1              0   \n",
       "1                0           0           0           0              0   \n",
       "2                0           0           0           1              0   \n",
       "3                0           0           0           0              0   \n",
       "4                0           0           0           1              0   \n",
       "\n",
       "   source_Seo  \n",
       "0           0  \n",
       "1           1  \n",
       "2           0  \n",
       "3           1  \n",
       "4           0  "
      ]
     },
     "execution_count": 14,
     "metadata": {},
     "output_type": "execute_result"
    }
   ],
   "source": [
    "# Use One Hot Encoding to make a new dataframe that consists of only quantitative variables\n",
    "X = pd.get_dummies(df, prefix_sep='_', drop_first=False)\n",
    "# Check the new dataframe\n",
    "X.head()"
   ]
  },
  {
   "cell_type": "markdown",
   "metadata": {},
   "source": [
    "We prepare training and test data "
   ]
  },
  {
   "cell_type": "code",
   "execution_count": 15,
   "metadata": {},
   "outputs": [
    {
     "name": "stdout",
     "output_type": "stream",
     "text": [
      "<class 'pandas.core.frame.DataFrame'>\n",
      "Int64Index: 252958 entries, 62947 to 61008\n",
      "Data columns (total 12 columns):\n",
      "index                  252958 non-null int64\n",
      "age                    252958 non-null int64\n",
      "new_user               252958 non-null int64\n",
      "total_pages_visited    252958 non-null int64\n",
      "converted              252958 non-null int64\n",
      "country_China          252958 non-null uint8\n",
      "country_Germany        252958 non-null uint8\n",
      "country_UK             252958 non-null uint8\n",
      "country_US             252958 non-null uint8\n",
      "source_Ads             252958 non-null uint8\n",
      "source_Direct          252958 non-null uint8\n",
      "source_Seo             252958 non-null uint8\n",
      "dtypes: int64(5), uint8(7)\n",
      "memory usage: 13.3 MB\n",
      "<class 'pandas.core.frame.DataFrame'>\n",
      "Int64Index: 63240 entries, 231853 to 313826\n",
      "Data columns (total 12 columns):\n",
      "index                  63240 non-null int64\n",
      "age                    63240 non-null int64\n",
      "new_user               63240 non-null int64\n",
      "total_pages_visited    63240 non-null int64\n",
      "converted              63240 non-null int64\n",
      "country_China          63240 non-null uint8\n",
      "country_Germany        63240 non-null uint8\n",
      "country_UK             63240 non-null uint8\n",
      "country_US             63240 non-null uint8\n",
      "source_Ads             63240 non-null uint8\n",
      "source_Direct          63240 non-null uint8\n",
      "source_Seo             63240 non-null uint8\n",
      "dtypes: int64(5), uint8(7)\n",
      "memory usage: 3.3 MB\n"
     ]
    }
   ],
   "source": [
    "# We splite the data set into training and test data. \n",
    "#We select 80% of the data to be training and keep the rest 20% for testing\n",
    "\n",
    "train, test = train_test_split(X, test_size=0.2)\n",
    "\n",
    "\n",
    "# Check Results\n",
    "train.info()\n",
    "test.info()"
   ]
  },
  {
   "cell_type": "code",
   "execution_count": 16,
   "metadata": {},
   "outputs": [],
   "source": [
    "# Prepare the training data\n",
    "\n",
    "X_train = train[['age', 'new_user', 'total_pages_visited','country_China', 'country_Germany', 'country_UK','country_US','source_Ads','source_Direct','source_Seo']]\n",
    "y_train = train[['converted']] \n",
    "\n",
    "# Prepare the test data\n",
    "X_test = test[['age', 'new_user', 'total_pages_visited','country_China', 'country_Germany', 'country_UK','country_US','source_Ads','source_Direct','source_Seo']]\n",
    "y_test = test[['converted']] \n",
    "\n",
    "# Train the Logistic Regression Model\n",
    "classifier = LogisticRegression(solver = 'lbfgs', max_iter=1000)\n",
    "classifier.fit(X_train, y_train.values.ravel())\n",
    "\n",
    "# Predict the test set results and create confusion matrix\n",
    "y_pred = classifier.predict(X_test)\n",
    "\n",
    "y_test = y_test.to_numpy()\n",
    "#type(y_pred)\n",
    "#type(y_test)\n",
    "#confusion_matrix(y_test, y_pred, labels=[\"Converted Test\", \"Converted Predicted\"])"
   ]
  },
  {
   "cell_type": "code",
   "execution_count": 20,
   "metadata": {},
   "outputs": [
    {
     "data": {
      "text/plain": [
       "(63240,)"
      ]
     },
     "execution_count": 20,
     "metadata": {},
     "output_type": "execute_result"
    }
   ],
   "source": [
    "#y_test = y_test.to_numpy()\n",
    "\n",
    "y_test.shape\n",
    "y_pred.shape\n",
    "\n",
    "#confusion_matrix(y_test, y_pred, labels=[\"Converted Test\", \"Converted Predicted\"])"
   ]
  },
  {
   "cell_type": "markdown",
   "metadata": {},
   "source": [
    "## Conclusion\n",
    "\n",
    "We note that the site is doing well with the German audience and the young. The company should investigate why the website is doing bad in China. Further, for future research, we can investigate the data using Random Forest and Decision Trees to compare with the Logistic Regression results.  "
   ]
  }
 ],
 "metadata": {
  "kernelspec": {
   "display_name": "Python 3",
   "language": "python",
   "name": "python3"
  },
  "language_info": {
   "codemirror_mode": {
    "name": "ipython",
    "version": 3
   },
   "file_extension": ".py",
   "mimetype": "text/x-python",
   "name": "python",
   "nbconvert_exporter": "python",
   "pygments_lexer": "ipython3",
   "version": "3.7.3"
  }
 },
 "nbformat": 4,
 "nbformat_minor": 2
}
