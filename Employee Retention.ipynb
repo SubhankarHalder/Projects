{
 "cells": [
  {
   "cell_type": "markdown",
   "metadata": {},
   "source": [
    "# Employee Retention\n",
    "\n",
    "by Subhankar Halder"
   ]
  },
  {
   "cell_type": "markdown",
   "metadata": {},
   "source": [
    "## Objective\n",
    "\n",
    "In this project, we predict when employees are going to quit by investigating employee churn data. [Data Masked](https://datamasked.com) is the source of this dataset. "
   ]
  },
  {
   "cell_type": "markdown",
   "metadata": {},
   "source": [
    "## Import Libraries\n",
    "\n",
    "We import libraries into Python that will supply us with tools to sort, organize, visualize and analuze data. "
   ]
  },
  {
   "cell_type": "code",
   "execution_count": 16,
   "metadata": {},
   "outputs": [],
   "source": [
    "# Import numpy and set alias as np\n",
    "import numpy as np\n",
    "\n",
    "# Import pandas and set alias as pd\n",
    "import pandas as pd\n",
    "\n",
    "# Import pyplot and set alias as plt\n",
    "from matplotlib import pyplot as plt\n",
    "\n",
    "# Import seaborn and set alias as sns\n",
    "import seaborn as sns\n",
    "\n",
    "# Import datetime \n",
    "from datetime import datetime\n",
    "\n"
   ]
  },
  {
   "cell_type": "markdown",
   "metadata": {},
   "source": [
    "## Load Data\n",
    "\n",
    "We load the csv data into a pandas dataframe. We print out the first few rows of the data. "
   ]
  },
  {
   "cell_type": "code",
   "execution_count": 25,
   "metadata": {},
   "outputs": [
    {
     "name": "stdout",
     "output_type": "stream",
     "text": [
      "   employee_id  company_id              dept  seniority    salary  join_date  \\\n",
      "0      13021.0           7  customer_service         28   89000.0 2014-03-24   \n",
      "1     825355.0           7         marketing         20  183000.0 2013-04-29   \n",
      "2     927315.0           4         marketing         14  101000.0 2014-10-13   \n",
      "3     662910.0           7  customer_service         20  115000.0 2012-05-14   \n",
      "4     256971.0           2      data_science         23  276000.0 2011-10-17   \n",
      "5     509529.0           4      data_science         14  165000.0 2012-01-30   \n",
      "6      88600.0           4  customer_service         21  107000.0 2013-10-21   \n",
      "7     716309.0           2  customer_service          4   30000.0 2014-03-05   \n",
      "8     172999.0           9          engineer          7  160000.0 2012-12-10   \n",
      "9     504159.0           1             sales          7  104000.0 2012-06-12   \n",
      "\n",
      "   quit_date  \n",
      "0 2015-10-30  \n",
      "1 2014-04-04  \n",
      "2        NaT  \n",
      "3 2013-06-07  \n",
      "4 2014-08-22  \n",
      "5 2013-08-30  \n",
      "6        NaT  \n",
      "7        NaT  \n",
      "8 2015-10-23  \n",
      "9        NaT  \n"
     ]
    }
   ],
   "source": [
    "# Load data into dataframe\n",
    "df = pd.read_csv('employee_retention.csv', parse_dates=['join_date', 'quit_date'])\n",
    "\n",
    "# Use head command to print out first few rows\n",
    "print(df.head(10))"
   ]
  },
  {
   "cell_type": "markdown",
   "metadata": {},
   "source": [
    "## Data Exploration\n",
    "\n",
    "We explore the data to look for relationships and errors. "
   ]
  },
  {
   "cell_type": "code",
   "execution_count": 26,
   "metadata": {},
   "outputs": [
    {
     "name": "stdout",
     "output_type": "stream",
     "text": [
      "<class 'pandas.core.frame.DataFrame'>\n",
      "RangeIndex: 24702 entries, 0 to 24701\n",
      "Data columns (total 7 columns):\n",
      "employee_id    24702 non-null float64\n",
      "company_id     24702 non-null int64\n",
      "dept           24702 non-null object\n",
      "seniority      24702 non-null int64\n",
      "salary         24702 non-null float64\n",
      "join_date      24702 non-null datetime64[ns]\n",
      "quit_date      13510 non-null datetime64[ns]\n",
      "dtypes: datetime64[ns](2), float64(2), int64(2), object(1)\n",
      "memory usage: 1.3+ MB\n"
     ]
    },
    {
     "data": {
      "text/plain": [
       "employee_id        0\n",
       "company_id         0\n",
       "dept               0\n",
       "seniority          0\n",
       "salary             0\n",
       "join_date          0\n",
       "quit_date      11192\n",
       "dtype: int64"
      ]
     },
     "execution_count": 26,
     "metadata": {},
     "output_type": "execute_result"
    }
   ],
   "source": [
    "# Print information about the dataframe\n",
    "df.info()\n",
    "\n",
    "# Null Information\n",
    "df.isnull().sum()"
   ]
  },
  {
   "cell_type": "code",
   "execution_count": 27,
   "metadata": {},
   "outputs": [
    {
     "data": {
      "text/html": [
       "<div>\n",
       "<style scoped>\n",
       "    .dataframe tbody tr th:only-of-type {\n",
       "        vertical-align: middle;\n",
       "    }\n",
       "\n",
       "    .dataframe tbody tr th {\n",
       "        vertical-align: top;\n",
       "    }\n",
       "\n",
       "    .dataframe thead th {\n",
       "        text-align: right;\n",
       "    }\n",
       "</style>\n",
       "<table border=\"1\" class=\"dataframe\">\n",
       "  <thead>\n",
       "    <tr style=\"text-align: right;\">\n",
       "      <th></th>\n",
       "      <th>employee_id</th>\n",
       "      <th>company_id</th>\n",
       "      <th>seniority</th>\n",
       "      <th>salary</th>\n",
       "    </tr>\n",
       "  </thead>\n",
       "  <tbody>\n",
       "    <tr>\n",
       "      <th>count</th>\n",
       "      <td>24702.000000</td>\n",
       "      <td>24702.000000</td>\n",
       "      <td>24702.000000</td>\n",
       "      <td>24702.000000</td>\n",
       "    </tr>\n",
       "    <tr>\n",
       "      <th>mean</th>\n",
       "      <td>501604.403530</td>\n",
       "      <td>3.426969</td>\n",
       "      <td>14.127803</td>\n",
       "      <td>138183.345478</td>\n",
       "    </tr>\n",
       "    <tr>\n",
       "      <th>std</th>\n",
       "      <td>288909.026101</td>\n",
       "      <td>2.700011</td>\n",
       "      <td>8.089520</td>\n",
       "      <td>76058.184573</td>\n",
       "    </tr>\n",
       "    <tr>\n",
       "      <th>min</th>\n",
       "      <td>36.000000</td>\n",
       "      <td>1.000000</td>\n",
       "      <td>1.000000</td>\n",
       "      <td>17000.000000</td>\n",
       "    </tr>\n",
       "    <tr>\n",
       "      <th>25%</th>\n",
       "      <td>250133.750000</td>\n",
       "      <td>1.000000</td>\n",
       "      <td>7.000000</td>\n",
       "      <td>79000.000000</td>\n",
       "    </tr>\n",
       "    <tr>\n",
       "      <th>50%</th>\n",
       "      <td>500793.000000</td>\n",
       "      <td>2.000000</td>\n",
       "      <td>14.000000</td>\n",
       "      <td>123000.000000</td>\n",
       "    </tr>\n",
       "    <tr>\n",
       "      <th>75%</th>\n",
       "      <td>753137.250000</td>\n",
       "      <td>5.000000</td>\n",
       "      <td>21.000000</td>\n",
       "      <td>187000.000000</td>\n",
       "    </tr>\n",
       "    <tr>\n",
       "      <th>max</th>\n",
       "      <td>999969.000000</td>\n",
       "      <td>12.000000</td>\n",
       "      <td>99.000000</td>\n",
       "      <td>408000.000000</td>\n",
       "    </tr>\n",
       "  </tbody>\n",
       "</table>\n",
       "</div>"
      ],
      "text/plain": [
       "         employee_id    company_id     seniority         salary\n",
       "count   24702.000000  24702.000000  24702.000000   24702.000000\n",
       "mean   501604.403530      3.426969     14.127803  138183.345478\n",
       "std    288909.026101      2.700011      8.089520   76058.184573\n",
       "min        36.000000      1.000000      1.000000   17000.000000\n",
       "25%    250133.750000      1.000000      7.000000   79000.000000\n",
       "50%    500793.000000      2.000000     14.000000  123000.000000\n",
       "75%    753137.250000      5.000000     21.000000  187000.000000\n",
       "max    999969.000000     12.000000     99.000000  408000.000000"
      ]
     },
     "execution_count": 27,
     "metadata": {},
     "output_type": "execute_result"
    }
   ],
   "source": [
    "# Print dataframe statistics\n",
    "\n",
    "df.describe()\n",
    "\n"
   ]
  },
  {
   "cell_type": "code",
   "execution_count": 28,
   "metadata": {},
   "outputs": [
    {
     "data": {
      "text/plain": [
       "Timestamp('2011-01-24 00:00:00')"
      ]
     },
     "execution_count": 28,
     "metadata": {},
     "output_type": "execute_result"
    }
   ],
   "source": [
    "# Min of Join Date\n",
    "df['join_date'].min()\n"
   ]
  },
  {
   "cell_type": "markdown",
   "metadata": {},
   "source": [
    "## Observation\n",
    "\n",
    "We note that the data is for employees across several companies and departments. We also find \"NA\" written for various quit dates. For these NA observations, we assume that the employees haven't quit the company. "
   ]
  },
  {
   "cell_type": "markdown",
   "metadata": {},
   "source": [
    "## Employee Headcount Analysis\n",
    "\n",
    "Since our data includes employees from different companies, it'll be useful for us to determine how many employees are retained across companies throughtout a time period. For each company, we assume that the headcount starts from zero on 23rd Jan 2011. We further assume that the end of the period is 13th December 2015.\n",
    "\n"
   ]
  },
  {
   "cell_type": "code",
   "execution_count": 29,
   "metadata": {},
   "outputs": [],
   "source": [
    "# Define a fixed frequency DateTime index and sort the company_id column\n",
    "uq_date = pd.date_range(start='2011-01-24', end='2015-12-13')\n",
    "uq_company = sorted(df['company_id'].unique())\n",
    "\n",
    "#Define columns that would come up in the final table\n",
    "date = []\n",
    "company = []\n",
    "count = []\n",
    "\n"
   ]
  },
  {
   "cell_type": "code",
   "execution_count": 30,
   "metadata": {},
   "outputs": [],
   "source": [
    "# Loop through date and company id\n",
    "for day in uq_date:\n",
    "    for index in uq_company:\n",
    "        join = len(df[(df['join_date'] <= day) & (df['company_id'] == index)])\n",
    "        quit = len(df[(df['quit_date'] <= day) & (df['company_id'] == index)])\n",
    "        date.append(day)\n",
    "        company.append(index)\n",
    "        count.append(join - quit)\n"
   ]
  },
  {
   "cell_type": "code",
   "execution_count": 31,
   "metadata": {},
   "outputs": [
    {
     "name": "stdout",
     "output_type": "stream",
     "text": [
      "          date  company_id  employee_headcount\n",
      "0   2011-01-24           1                  25\n",
      "12  2011-01-25           1                  27\n",
      "24  2011-01-26           1                  29\n",
      "36  2011-01-27           1                  29\n",
      "48  2011-01-28           1                  29\n",
      "60  2011-01-29           1                  29\n",
      "72  2011-01-30           1                  29\n",
      "84  2011-01-31           1                  59\n",
      "96  2011-02-01           1                  66\n",
      "108 2011-02-02           1                  67\n",
      "120 2011-02-03           1                  67\n",
      "132 2011-02-04           1                  67\n",
      "144 2011-02-05           1                  67\n",
      "156 2011-02-06           1                  67\n",
      "168 2011-02-07           1                  99\n",
      "180 2011-02-08           1                 102\n",
      "192 2011-02-09           1                 104\n",
      "204 2011-02-10           1                 104\n",
      "216 2011-02-11           1                 104\n",
      "228 2011-02-12           1                 104\n"
     ]
    }
   ],
   "source": [
    "# Create a dataframe for date, employee_headcount, company_id\n",
    "headcount_data = pd.DataFrame({'date': date, 'company_id': company, 'employee_headcount': count}, \n",
    "                     columns=['date', 'company_id', 'employee_headcount'])\n",
    "\n",
    "# Print a few rows of the newly formed dataframe for company 1\n",
    "print(headcount_data.query(\"company_id == 1\").head(20))\n"
   ]
  },
  {
   "cell_type": "code",
   "execution_count": 32,
   "metadata": {},
   "outputs": [
    {
     "name": "stdout",
     "output_type": "stream",
     "text": [
      "          date  company_id  employee_headcount\n",
      "1   2011-01-24           2                  17\n",
      "13  2011-01-25           2                  19\n",
      "25  2011-01-26           2                  19\n",
      "37  2011-01-27           2                  19\n",
      "49  2011-01-28           2                  19\n",
      "61  2011-01-29           2                  19\n",
      "73  2011-01-30           2                  19\n",
      "85  2011-01-31           2                  31\n",
      "97  2011-02-01           2                  33\n",
      "109 2011-02-02           2                  35\n",
      "121 2011-02-03           2                  36\n",
      "133 2011-02-04           2                  36\n",
      "145 2011-02-05           2                  36\n",
      "157 2011-02-06           2                  36\n",
      "169 2011-02-07           2                  55\n",
      "181 2011-02-08           2                  57\n",
      "193 2011-02-09           2                  58\n",
      "205 2011-02-10           2                  58\n",
      "217 2011-02-11           2                  58\n",
      "229 2011-02-12           2                  58\n"
     ]
    }
   ],
   "source": [
    "# Print a few rows of the dataframe for company 2\n",
    "\n",
    "print(headcount_data.query(\"company_id == 2\").head(20))"
   ]
  },
  {
   "cell_type": "markdown",
   "metadata": {},
   "source": [
    "## Observation\n",
    "\n",
    "We observe that company headcount increases as the date increases. This may be due to either the company hiring more employees or employees quitting less as we increase the date. We explore this idea further. "
   ]
  },
  {
   "cell_type": "code",
   "execution_count": 34,
   "metadata": {},
   "outputs": [
    {
     "data": {
      "image/png": "[encoded data removed]",
      "text/plain": [
       "<Figure size 432x288 with 1 Axes>"
      ]
     },
     "metadata": {
      "needs_background": "light"
     },
     "output_type": "display_data"
    }
   ],
   "source": [
    "# We calculate the employee length\n",
    "df['employment_length'] = (df['quit_date'] - df['join_date']).astype('timedelta64[D]')\n",
    "  \n",
    "#Plot employment length in days\n",
    "plt.hist(df['employment_length'].dropna(), bins = 120, color = 'green')\n",
    "plt.xlabel('Employment Length in Days')\n",
    "plt.ylabel('Frequency of Employees')\n",
    "plt.title('Employment Length')\n",
    "plt.show()"
   ]
  },
  {
   "cell_type": "markdown",
   "metadata": {},
   "source": [
    "## Conclusions\n",
    "\n",
    "We note that employees quit their companies at the end of their work anniversaries. Further, employees quit in higher numbers around their first work anniversary than later work anniversaries. \n",
    "\n",
    "For future research, we can investigate the data further to see which variable of the employee (salary/department/seniority) is a major factor in the employee quitting a company.  \n",
    "\n"
   ]
  },
  {
   "cell_type": "code",
   "execution_count": null,
   "metadata": {},
   "outputs": [],
   "source": []
  }
 ],
 "metadata": {
  "kernelspec": {
   "display_name": "Python 3",
   "language": "python",
   "name": "python3"
  },
  "language_info": {
   "codemirror_mode": {
    "name": "ipython",
    "version": 3
   },
   "file_extension": ".py",
   "mimetype": "text/x-python",
   "name": "python",
   "nbconvert_exporter": "python",
   "pygments_lexer": "ipython3",
   "version": "3.7.3"
  }
 },
 "nbformat": 4,
 "nbformat_minor": 2
}
